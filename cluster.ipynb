{
 "cells": [
  {
   "cell_type": "code",
   "execution_count": 2,
   "id": "be5b9a0c-6edf-408d-a147-d9da428bb77c",
   "metadata": {},
   "outputs": [
    {
     "name": "stderr",
     "output_type": "stream",
     "text": [
      "/home/raiymbek/miniconda3/envs/vlm_proper/lib/python3.10/site-packages/tqdm/auto.py:21: TqdmWarning: IProgress not found. Please update jupyter and ipywidgets. See https://ipywidgets.readthedocs.io/en/stable/user_install.html\n",
      "  from .autonotebook import tqdm as notebook_tqdm\n"
     ]
    }
   ],
   "source": [
    "import torchvision.datasets as dset\n",
    "import torchvision.transforms as transforms\n",
    "from transformers import GPT2Tokenizer, GPT2Model, GPT2Config\n",
    "from torch.utils.data import DataLoader\n",
    "from transformers import ViTImageProcessor, ViTModel, ViTConfig, CLIPProcessor, CLIPModel\n",
    "from sentence_transformers import SentenceTransformer, models\n",
    "from transformers import AutoImageProcessor, AutoModel\n",
    "from sklearn.cluster import KMeans\n",
    "from sklearn.metrics.pairwise import cosine_similarity\n",
    "import numpy as np\n",
    "\n",
    "import torch, random\n",
    "from tqdm import tqdm\n",
    "import sys\n",
    "import re\n",
    "\n",
    "gpu = 'cuda:0'\n",
    "device = torch.device(gpu)\n",
    "torch.cuda.empty_cache()"
   ]
  },
  {
   "cell_type": "code",
   "execution_count": 2,
   "id": "fe12807b-4935-437d-9bfb-339b7c29bf89",
   "metadata": {},
   "outputs": [],
   "source": [
    "def cluster_text(model, dataset):\n",
    "    source_base_large = torch.load(f\"{dataset}_{model}_text.pt\", map_location=gpu)\n",
    "    clustering_matrix = source_base_large.cpu().numpy()\n",
    "    kmeans = KMeans(n_clusters=320, random_state=0).fit(clustering_matrix)\n",
    "    \n",
    "    cos_sims = cosine_similarity(kmeans.cluster_centers_, clustering_matrix)\n",
    "    closest_indices = np.argsort(cos_sims, axis=1)[:,-1:]\n",
    "    closest_indices = list(set(closest_indices.reshape(-1)))\n",
    "    choose = closest_indices\n",
    "    \n",
    "    torch.save(choose, f'{dataset}_{model}_text_cluster.pt')"
   ]
  },
  {
   "cell_type": "code",
   "execution_count": 34,
   "id": "fcf2a56e-81e0-4b62-bc75-3a6003ae1ef7",
   "metadata": {},
   "outputs": [
    {
     "name": "stderr",
     "output_type": "stream",
     "text": [
      "/home/raiymbek/.local/lib/python3.10/site-packages/sklearn/cluster/_kmeans.py:1416: FutureWarning: The default value of `n_init` will change from 10 to 'auto' in 1.4. Set the value of `n_init` explicitly to suppress the warning\n",
      "  super()._check_params_vs_input(X, default_n_init=10)\n",
      "/home/raiymbek/.local/lib/python3.10/site-packages/sklearn/cluster/_kmeans.py:1416: FutureWarning: The default value of `n_init` will change from 10 to 'auto' in 1.4. Set the value of `n_init` explicitly to suppress the warning\n",
      "  super()._check_params_vs_input(X, default_n_init=10)\n",
      "/home/raiymbek/.local/lib/python3.10/site-packages/sklearn/cluster/_kmeans.py:1416: FutureWarning: The default value of `n_init` will change from 10 to 'auto' in 1.4. Set the value of `n_init` explicitly to suppress the warning\n",
      "  super()._check_params_vs_input(X, default_n_init=10)\n",
      "/home/raiymbek/.local/lib/python3.10/site-packages/sklearn/cluster/_kmeans.py:1416: FutureWarning: The default value of `n_init` will change from 10 to 'auto' in 1.4. Set the value of `n_init` explicitly to suppress the warning\n",
      "  super()._check_params_vs_input(X, default_n_init=10)\n"
     ]
    }
   ],
   "source": [
    "for model in [\"allroberta\", \"clip\", ]:\n",
    "    for dataset in [\"coco\", \"nocaps\"]:\n",
    "        cluster_text(model, dataset)"
   ]
  },
  {
   "cell_type": "code",
   "execution_count": 3,
   "id": "e3976787-ad57-4304-945e-53c764f8240a",
   "metadata": {},
   "outputs": [],
   "source": [
    "def cluster_img(model, dataset):\n",
    "    source_base_large = torch.load(f\"{dataset}_{model}_img.pt\", map_location=gpu)\n",
    "    clustering_matrix = source_base_large.cpu().numpy()\n",
    "    kmeans = KMeans(n_clusters=320, random_state=0).fit(clustering_matrix)\n",
    "    \n",
    "    cos_sims = cosine_similarity(kmeans.cluster_centers_, clustering_matrix)\n",
    "    closest_indices = np.argsort(cos_sims, axis=1)[:,-1:]\n",
    "    closest_indices = list(set(closest_indices.reshape(-1)))\n",
    "    choose = closest_indices\n",
    "    \n",
    "    torch.save(choose, f'{dataset}_{model}_img_cluster.pt')"
   ]
  },
  {
   "cell_type": "code",
   "execution_count": 14,
   "id": "88e28de4-ab8d-4659-b83c-abf6b8b86e12",
   "metadata": {},
   "outputs": [
    {
     "name": "stderr",
     "output_type": "stream",
     "text": [
      "/home/raiymbek/.local/lib/python3.10/site-packages/sklearn/cluster/_kmeans.py:1416: FutureWarning: The default value of `n_init` will change from 10 to 'auto' in 1.4. Set the value of `n_init` explicitly to suppress the warning\n",
      "  super()._check_params_vs_input(X, default_n_init=10)\n"
     ]
    }
   ],
   "source": [
    "for model in [\"vit\"]:\n",
    "    for dataset in [\"coco\"]:\n",
    "        cluster_img(model, dataset)"
   ]
  },
  {
   "cell_type": "code",
   "execution_count": 5,
   "id": "4d8d04db-38ba-46c6-b47c-03638b5cbff6",
   "metadata": {},
   "outputs": [
    {
     "name": "stderr",
     "output_type": "stream",
     "text": [
      "/home/raiymbek/.local/lib/python3.10/site-packages/sklearn/cluster/_kmeans.py:1416: FutureWarning: The default value of `n_init` will change from 10 to 'auto' in 1.4. Set the value of `n_init` explicitly to suppress the warning\n",
      "  super()._check_params_vs_input(X, default_n_init=10)\n",
      "/home/raiymbek/.local/lib/python3.10/site-packages/sklearn/base.py:1152: ConvergenceWarning: Number of distinct clusters (1) found smaller than n_clusters (320). Possibly due to duplicate points in X.\n",
      "  return fit_method(estimator, *args, **kwargs)\n"
     ]
    }
   ],
   "source": [
    "for model in [\"sam_embed\"]:\n",
    "    for dataset in [\"coco\"]:\n",
    "        cluster_img(model, dataset)"
   ]
  },
  {
   "cell_type": "code",
   "execution_count": 3,
   "id": "5d7a1510-9a1c-4ae0-b87e-31d8e759664b",
   "metadata": {},
   "outputs": [
    {
     "name": "stderr",
     "output_type": "stream",
     "text": [
      "/home/raiymbek/.local/lib/python3.10/site-packages/sklearn/cluster/_kmeans.py:1416: FutureWarning: The default value of `n_init` will change from 10 to 'auto' in 1.4. Set the value of `n_init` explicitly to suppress the warning\n",
      "  super()._check_params_vs_input(X, default_n_init=10)\n",
      "/home/raiymbek/.local/lib/python3.10/site-packages/sklearn/cluster/_kmeans.py:1416: FutureWarning: The default value of `n_init` will change from 10 to 'auto' in 1.4. Set the value of `n_init` explicitly to suppress the warning\n",
      "  super()._check_params_vs_input(X, default_n_init=10)\n",
      "/home/raiymbek/.local/lib/python3.10/site-packages/sklearn/cluster/_kmeans.py:1416: FutureWarning: The default value of `n_init` will change from 10 to 'auto' in 1.4. Set the value of `n_init` explicitly to suppress the warning\n",
      "  super()._check_params_vs_input(X, default_n_init=10)\n",
      "/home/raiymbek/.local/lib/python3.10/site-packages/sklearn/cluster/_kmeans.py:1416: FutureWarning: The default value of `n_init` will change from 10 to 'auto' in 1.4. Set the value of `n_init` explicitly to suppress the warning\n",
      "  super()._check_params_vs_input(X, default_n_init=10)\n",
      "/home/raiymbek/.local/lib/python3.10/site-packages/sklearn/cluster/_kmeans.py:1416: FutureWarning: The default value of `n_init` will change from 10 to 'auto' in 1.4. Set the value of `n_init` explicitly to suppress the warning\n",
      "  super()._check_params_vs_input(X, default_n_init=10)\n",
      "/home/raiymbek/.local/lib/python3.10/site-packages/sklearn/cluster/_kmeans.py:1416: FutureWarning: The default value of `n_init` will change from 10 to 'auto' in 1.4. Set the value of `n_init` explicitly to suppress the warning\n",
      "  super()._check_params_vs_input(X, default_n_init=10)\n",
      "/home/raiymbek/.local/lib/python3.10/site-packages/sklearn/cluster/_kmeans.py:1416: FutureWarning: The default value of `n_init` will change from 10 to 'auto' in 1.4. Set the value of `n_init` explicitly to suppress the warning\n",
      "  super()._check_params_vs_input(X, default_n_init=10)\n"
     ]
    }
   ],
   "source": [
    "for model in [\"detr_resnet_101_encoder\", \"detr_resnet_101_decoder\", \"detr_resnet_50_encoder\", \"detr_resnet_50_decoder\", \"sam\", \"segformer\", \"dpt\"]:\n",
    "    for dataset in [\"coco\"]:\n",
    "        cluster_img(model, dataset)"
   ]
  },
  {
   "cell_type": "code",
   "execution_count": null,
   "id": "734f0a95-4685-4bfc-8590-06c109da7015",
   "metadata": {},
   "outputs": [],
   "source": []
  },
  {
   "cell_type": "code",
   "execution_count": null,
   "id": "bdf2903f-ee52-4424-9fce-c186533ad318",
   "metadata": {},
   "outputs": [],
   "source": []
  },
  {
   "cell_type": "code",
   "execution_count": null,
   "id": "502eaf93-b74b-42a2-a6da-cd55f8c3dfd8",
   "metadata": {},
   "outputs": [],
   "source": []
  },
  {
   "cell_type": "code",
   "execution_count": null,
   "id": "7872057b-6093-4c1e-98cf-267b69523fc8",
   "metadata": {},
   "outputs": [],
   "source": []
  },
  {
   "cell_type": "code",
   "execution_count": 21,
   "id": "ba472795-4b8b-4b68-b79b-6c94102f02f6",
   "metadata": {},
   "outputs": [
    {
     "name": "stderr",
     "output_type": "stream",
     "text": [
      "/home/raiymbek/.local/lib/python3.10/site-packages/sklearn/cluster/_kmeans.py:1416: FutureWarning: The default value of `n_init` will change from 10 to 'auto' in 1.4. Set the value of `n_init` explicitly to suppress the warning\n",
      "  super()._check_params_vs_input(X, default_n_init=10)\n"
     ]
    }
   ],
   "source": [
    "source_base_large = torch.load(f\"coco_text_no_transform.pt\", map_location=gpu)\n",
    "target_base_large = torch.load(f\"coco_val_clip_vit_large_patch14_img.pt\", map_location=gpu)\n",
    "\n",
    "clustering_matrix = source_base_large.cpu().numpy()\n",
    "kmeans = KMeans(n_clusters=320, random_state=0).fit(clustering_matrix)\n",
    "\n",
    "cos_sims = cosine_similarity(kmeans.cluster_centers_, clustering_matrix)\n",
    "closest_indices = np.argsort(cos_sims, axis=1)[:,-1:]\n",
    "closest_indices = list(set(closest_indices.reshape(-1)))\n",
    "choose = closest_indices\n",
    "\n",
    "source_base = source_base_large[choose]\n",
    "target_base = target_base_large[choose]\n",
    "\n",
    "torch.save(source_base_large, f'coco_text_no_transform_320_c1.pt')\n",
    "torch.save(target_base_large, f'coco_val_clip_vit_large_patch14_img_320_c1.pt')"
   ]
  },
  {
   "cell_type": "code",
   "execution_count": 16,
   "id": "6f739a46-8e8d-4450-bb20-9f9611e94d38",
   "metadata": {},
   "outputs": [
    {
     "name": "stderr",
     "output_type": "stream",
     "text": [
      "/home/raiymbek/.local/lib/python3.10/site-packages/sklearn/cluster/_kmeans.py:1416: FutureWarning: The default value of `n_init` will change from 10 to 'auto' in 1.4. Set the value of `n_init` explicitly to suppress the warning\n",
      "  super()._check_params_vs_input(X, default_n_init=10)\n"
     ]
    }
   ],
   "source": [
    "source_base_large = torch.load(f\"coco_text_no_transform.pt\", map_location=gpu)\n",
    "target_base_large = torch.load(f\"convnext_coco_val.pt\", map_location=gpu)\n",
    "\n",
    "clustering_matrix = source_base_large.cpu().numpy()\n",
    "kmeans = KMeans(n_clusters=320, random_state=0).fit(clustering_matrix)\n",
    "\n",
    "cos_sims = cosine_similarity(kmeans.cluster_centers_, clustering_matrix)\n",
    "closest_indices = np.argsort(cos_sims, axis=1)[:,-1:]\n",
    "closest_indices = list(set(closest_indices.reshape(-1)))\n",
    "choose = closest_indices\n",
    "\n",
    "source_base = source_base_large[choose]\n",
    "target_base = target_base_large[choose]\n",
    "\n",
    "torch.save(source_base_large, f'coco_text_no_transform_320_c1.pt')\n",
    "torch.save(target_base_large, f'convnext_coco_val_320_c1.pt')"
   ]
  },
  {
   "cell_type": "code",
   "execution_count": 20,
   "id": "5343c130-736f-4ea4-9f1e-d6bd0aca18e6",
   "metadata": {},
   "outputs": [
    {
     "name": "stderr",
     "output_type": "stream",
     "text": [
      "/home/raiymbek/.local/lib/python3.10/site-packages/sklearn/cluster/_kmeans.py:1416: FutureWarning: The default value of `n_init` will change from 10 to 'auto' in 1.4. Set the value of `n_init` explicitly to suppress the warning\n",
      "  super()._check_params_vs_input(X, default_n_init=10)\n"
     ]
    }
   ],
   "source": [
    "source_base_large = torch.load(f\"coco_text_no_transform.pt\", map_location=gpu)\n",
    "target_base_large = torch.load(f\"coco_val_clip_vit_large_patch14_img.pt\", map_location=gpu)\n",
    "\n",
    "clustering_matrix = target_base_large.cpu().numpy()\n",
    "kmeans = KMeans(n_clusters=320, random_state=0).fit(clustering_matrix)\n",
    "\n",
    "cos_sims = cosine_similarity(kmeans.cluster_centers_, clustering_matrix)\n",
    "closest_indices = np.argsort(cos_sims, axis=1)[:,-1:]\n",
    "closest_indices = list(set(closest_indices.reshape(-1)))\n",
    "choose = closest_indices\n",
    "\n",
    "source_base = source_base_large[choose]\n",
    "target_base = target_base_large[choose]\n",
    "\n",
    "torch.save(source_base_large, f'coco_text_no_transform_320_c2.pt')\n",
    "torch.save(target_base_large, f'coco_val_clip_vit_large_patch14_img_320_c2.pt')"
   ]
  },
  {
   "cell_type": "code",
   "execution_count": 18,
   "id": "cef217a0-bc1e-4d30-9eda-fba8a9b2c71f",
   "metadata": {},
   "outputs": [
    {
     "name": "stderr",
     "output_type": "stream",
     "text": [
      "/home/raiymbek/.local/lib/python3.10/site-packages/sklearn/cluster/_kmeans.py:1416: FutureWarning: The default value of `n_init` will change from 10 to 'auto' in 1.4. Set the value of `n_init` explicitly to suppress the warning\n",
      "  super()._check_params_vs_input(X, default_n_init=10)\n"
     ]
    }
   ],
   "source": [
    "source_base_large = torch.load(f\"coco_text_no_transform.pt\", map_location=gpu)\n",
    "target_base_large = torch.load(f\"convnext_coco_val.pt\", map_location=gpu)\n",
    "\n",
    "clustering_matrix = target_base_large.cpu().numpy()\n",
    "kmeans = KMeans(n_clusters=320, random_state=0).fit(clustering_matrix)\n",
    "\n",
    "cos_sims = cosine_similarity(kmeans.cluster_centers_, clustering_matrix)\n",
    "closest_indices = np.argsort(cos_sims, axis=1)[:,-1:]\n",
    "closest_indices = list(set(closest_indices.reshape(-1)))\n",
    "choose = closest_indices\n",
    "\n",
    "source_base = source_base_large[choose]\n",
    "target_base = target_base_large[choose]\n",
    "\n",
    "torch.save(source_base_large, f'coco_text_no_transform_320_c2.pt')\n",
    "torch.save(target_base_large, f'convnext_coco_val_320_c2.pt')"
   ]
  },
  {
   "cell_type": "code",
   "execution_count": null,
   "id": "09a4bc59-7976-4b0c-b08b-8c4980b47705",
   "metadata": {},
   "outputs": [],
   "source": []
  },
  {
   "cell_type": "code",
   "execution_count": null,
   "id": "cc188abc-b643-41b3-9d19-45f68bb56b54",
   "metadata": {},
   "outputs": [],
   "source": []
  },
  {
   "cell_type": "code",
   "execution_count": null,
   "id": "46a0d08f-dd7f-4f3b-bdb2-fa966f8c8441",
   "metadata": {},
   "outputs": [],
   "source": []
  },
  {
   "cell_type": "code",
   "execution_count": null,
   "id": "37676364-2816-4fc7-bcf0-a120f35f2d43",
   "metadata": {},
   "outputs": [],
   "source": []
  },
  {
   "cell_type": "code",
   "execution_count": null,
   "id": "1c9bc592-7fe0-451e-b9de-369f26e3d14d",
   "metadata": {},
   "outputs": [],
   "source": []
  },
  {
   "cell_type": "code",
   "execution_count": null,
   "id": "133d6793-fba3-4732-83e9-9f07c0f8680f",
   "metadata": {},
   "outputs": [],
   "source": [
    "torch.save(source_base_large, f'coco_val_clip_vit_large_patch14_img_320_c1.pt')\n",
    "torch.save(target_base_large, f'nocap_val_clip_vit_large_patch14_img_320_c1.pt.pt')"
   ]
  },
  {
   "cell_type": "code",
   "execution_count": null,
   "id": "72722260-9bbd-4cf4-96e4-5880c239d732",
   "metadata": {},
   "outputs": [],
   "source": []
  },
  {
   "cell_type": "code",
   "execution_count": null,
   "id": "54518fa8-61b6-476c-95e5-05f63e9ea536",
   "metadata": {},
   "outputs": [],
   "source": [
    "source_base_large = torch.load(f\"coco_val_clip_vit_large_patch14_img.pt\", map_location=gpu)\n",
    "target_base_large = torch.load(f\"coco_text_no_transform.pt\", map_location=gpu)\n",
    "clustering_matrix = source_base_large.cpu().numpy()\n",
    "kmeans = KMeans(n_clusters=320, random_state=0).fit(clustering_matrix)\n",
    "\n",
    "cos_sims = cosine_similarity(kmeans.cluster_centers_, clustering_matrix)\n",
    "closest_indices = np.argsort(cos_sims, axis=1)[:,-1:]\n",
    "closest_indices = list(set(closest_indices.reshape(-1)))\n",
    "choose = closest_indices\n",
    "\n",
    "source_base = source_base_large[choose]\n",
    "target_base = target_base_large[choose]\n",
    "\n",
    "torch.save(source_base_large, f'coco_val_clip_vit_large_patch14_img_320_c1.pt')\n",
    "torch.save(target_base_large, f'nocap_val_clip_vit_large_patch14_img_320_c1.pt.pt')"
   ]
  }
 ],
 "metadata": {
  "kernelspec": {
   "display_name": "vlm proper",
   "language": "python",
   "name": "vlm_proper"
  },
  "language_info": {
   "codemirror_mode": {
    "name": "ipython",
    "version": 3
   },
   "file_extension": ".py",
   "mimetype": "text/x-python",
   "name": "python",
   "nbconvert_exporter": "python",
   "pygments_lexer": "ipython3",
   "version": "3.10.13"
  }
 },
 "nbformat": 4,
 "nbformat_minor": 5
}
